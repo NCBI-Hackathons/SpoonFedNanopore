{
 "cells": [
  {
   "cell_type": "code",
   "execution_count": 1,
   "metadata": {},
   "outputs": [],
   "source": [
    "directory='/mnt/borage/nick/nanopore/data/Flowcell6/downloads'"
   ]
  },
  {
   "cell_type": "markdown",
   "metadata": {},
   "source": [
    "Set directory to the path to the *.fast5 files "
   ]
  },
  {
   "cell_type": "code",
   "execution_count": 4,
   "metadata": {},
   "outputs": [
    {
     "name": "stdout",
     "output_type": "stream",
     "text": [
      "find: ‘/mnt/borage/nick/nanopore/data/Flowcell6/downloads’: No such file or directory\r\n",
      "0\r\n"
     ]
    }
   ],
   "source": [
    "!find $directory -maxdepth 1 -name \"*.fast5\" | wc -l"
   ]
  },
  {
   "cell_type": "markdown",
   "metadata": {},
   "source": [
    "This will print the number of FAST5 files in the directory.\n",
    "\n",
    "- Poretools has a number of different command line options \n",
    "- Running poretools with no parameters gives us a brief list (and complies with Torsten's first rule)"
   ]
  },
  {
   "cell_type": "markdown",
   "metadata": {},
   "source": [
    "### Let's start with a simple one, the stats command, this will give us some basic statistics about our reads.\n",
    "\n",
    "The -q option stops poretools outputting any warning messages."
   ]
  },
  {
   "cell_type": "code",
   "execution_count": 2,
   "metadata": {
    "scrolled": true
   },
   "outputs": [
    {
     "name": "stdout",
     "output_type": "stream",
     "text": [
      "/bin/sh: 1: poretools: not found\r\n"
     ]
    }
   ],
   "source": [
    "!poretools stats -q $directory"
   ]
  },
  {
   "cell_type": "code",
   "execution_count": 3,
   "metadata": {},
   "outputs": [
    {
     "name": "stdout",
     "output_type": "stream",
     "text": [
      "/bin/sh: 1: poretools: not found\r\n"
     ]
    }
   ],
   "source": [
    "!poretools"
   ]
  },
  {
   "cell_type": "code",
   "execution_count": null,
   "metadata": {},
   "outputs": [],
   "source": []
  }
 ],
 "metadata": {
  "kernelspec": {
   "display_name": "Python 3",
   "language": "python",
   "name": "python3"
  },
  "language_info": {
   "codemirror_mode": {
    "name": "ipython",
    "version": 3
   },
   "file_extension": ".py",
   "mimetype": "text/x-python",
   "name": "python",
   "nbconvert_exporter": "python",
   "pygments_lexer": "ipython3",
   "version": "3.5.2"
  }
 },
 "nbformat": 4,
 "nbformat_minor": 2
}
