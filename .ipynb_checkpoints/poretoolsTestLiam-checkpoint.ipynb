{
 "cells": [
  {
   "cell_type": "markdown",
   "metadata": {},
   "source": [
    "## Change this dataDirectory variable to the path to your *.fast5 files "
   ]
  },
  {
   "cell_type": "code",
   "execution_count": 29,
   "metadata": {},
   "outputs": [],
   "source": [
    "# dataDirectory='~/Users/...'\n",
    "\n",
    "dataDirectory='data/'"
   ]
  },
  {
   "cell_type": "markdown",
   "metadata": {},
   "source": [
    "### This will print the number of FAST5 files in the dataDirectory.\n",
    "\n",
    "- Poretools has a number of different command line options \n",
    "- Running poretools with no parameters gives us a brief list (and complies with Torsten's first rule)"
   ]
  },
  {
   "cell_type": "code",
   "execution_count": 30,
   "metadata": {
    "scrolled": true
   },
   "outputs": [
    {
     "name": "stdout",
     "output_type": "stream",
     "text": [
      "2\r\n"
     ]
    }
   ],
   "source": [
    "!find $dataDirectory -maxdepth 1 -name \"*.fast5\" | wc -l"
   ]
  },
  {
   "cell_type": "markdown",
   "metadata": {},
   "source": [
    "### Let's start with a simple one, the stats command, this will give us some basic statistics about our reads.\n",
    "\n",
    "The -q option stops poretools outputting any warning messages."
   ]
  },
  {
   "cell_type": "code",
   "execution_count": 31,
   "metadata": {
    "scrolled": true
   },
   "outputs": [
    {
     "name": "stdout",
     "output_type": "stream",
     "text": [
      "/usr/local/lib/python2.7/dist-packages/h5py/__init__.py:36: FutureWarning: Conversion of the second argument of issubdtype from `float` to `np.floating` is deprecated. In future, it will be treated as `np.float64 == np.dtype(float).type`.\n",
      "  from ._conv import register_converters as _register_converters\n",
      "total reads\t6\n",
      "total base pairs\t25217\n",
      "mean\t4202.83\n",
      "median\t4205\n",
      "min\t2940\n",
      "max\t5826\n",
      "N25\t5079\n",
      "N50\t5011\n",
      "N75\t3399\n"
     ]
    }
   ],
   "source": [
    "!poretools stats -q $dataDirectory"
   ]
  },
  {
   "cell_type": "markdown",
   "metadata": {},
   "source": [
    "### Directional reads in forward \n",
    "\n",
    "###### forward, reverse and two-directional reads are all counted separately."
   ]
  },
  {
   "cell_type": "code",
   "execution_count": 32,
   "metadata": {},
   "outputs": [
    {
     "name": "stdout",
     "output_type": "stream",
     "text": [
      "/usr/local/lib/python2.7/dist-packages/h5py/__init__.py:36: FutureWarning: Conversion of the second argument of issubdtype from `float` to `np.floating` is deprecated. In future, it will be treated as `np.float64 == np.dtype(float).type`.\n",
      "  from ._conv import register_converters as _register_converters\n",
      "total reads\t2\n",
      "total base pairs\t8019\n",
      "mean\t4009.50\n",
      "median\t4009\n",
      "min\t2940\n",
      "max\t5079\n",
      "N25\t5079\n",
      "N50\t5079\n",
      "N75\t2940\n"
     ]
    }
   ],
   "source": [
    "!poretools stats -q --type fwd $dataDirectory"
   ]
  },
  {
   "cell_type": "markdown",
   "metadata": {},
   "source": [
    "### Directional reads in reverse \n",
    "\n"
   ]
  },
  {
   "cell_type": "code",
   "execution_count": 33,
   "metadata": {},
   "outputs": [
    {
     "name": "stdout",
     "output_type": "stream",
     "text": [
      "/usr/local/lib/python2.7/dist-packages/h5py/__init__.py:36: FutureWarning: Conversion of the second argument of issubdtype from `float` to `np.floating` is deprecated. In future, it will be treated as `np.float64 == np.dtype(float).type`.\n",
      "  from ._conv import register_converters as _register_converters\n",
      "total reads\t2\n",
      "total base pairs\t7973\n",
      "mean\t3986.50\n",
      "median\t3986\n",
      "min\t2962\n",
      "max\t5011\n",
      "N25\t5011\n",
      "N50\t5011\n",
      "N75\t2962\n"
     ]
    }
   ],
   "source": [
    "!poretools stats -q --type rev $dataDirectory"
   ]
  },
  {
   "cell_type": "markdown",
   "metadata": {},
   "source": [
    "### Two-direction reads \n",
    "\n"
   ]
  },
  {
   "cell_type": "code",
   "execution_count": 34,
   "metadata": {},
   "outputs": [
    {
     "name": "stdout",
     "output_type": "stream",
     "text": [
      "/usr/local/lib/python2.7/dist-packages/h5py/__init__.py:36: FutureWarning: Conversion of the second argument of issubdtype from `float` to `np.floating` is deprecated. In future, it will be treated as `np.float64 == np.dtype(float).type`.\n",
      "  from ._conv import register_converters as _register_converters\n",
      "total reads\t2\n",
      "total base pairs\t9225\n",
      "mean\t4612.50\n",
      "median\t4612\n",
      "min\t3399\n",
      "max\t5826\n",
      "N25\t5826\n",
      "N50\t5826\n",
      "N75\t3399\n"
     ]
    }
   ],
   "source": [
    "!poretools stats -q --type 2D $dataDirectory"
   ]
  },
  {
   "cell_type": "markdown",
   "metadata": {},
   "source": [
    "# Covert to FASTA"
   ]
  },
  {
   "cell_type": "markdown",
   "metadata": {},
   "source": [
    "1. Create a folder called fastaOut"
   ]
  },
  {
   "cell_type": "code",
   "execution_count": null,
   "metadata": {},
   "outputs": [],
   "source": [
    "#!poretools fasta $dataDirectory > nameOfFile.fasta"
   ]
  },
  {
   "cell_type": "code",
   "execution_count": 44,
   "metadata": {},
   "outputs": [
    {
     "name": "stdout",
     "output_type": "stream",
     "text": [
      "/usr/local/lib/python2.7/dist-packages/h5py/__init__.py:36: FutureWarning: Conversion of the second argument of issubdtype from `float` to `np.floating` is deprecated. In future, it will be treated as `np.float64 == np.dtype(float).type`.\r\n",
      "  from ._conv import register_converters as _register_converters\r\n"
     ]
    }
   ],
   "source": [
    "!mkdir fastaOutput\n",
    "!poretools fasta $dataDirectory > fastaOutput/outputPoretoolData.fasta"
   ]
  },
  {
   "cell_type": "code",
   "execution_count": null,
   "metadata": {},
   "outputs": [],
   "source": []
  }
 ],
 "metadata": {
  "kernelspec": {
   "display_name": "Python 3",
   "language": "python",
   "name": "python3"
  },
  "language_info": {
   "codemirror_mode": {
    "name": "ipython",
    "version": 3
   },
   "file_extension": ".py",
   "mimetype": "text/x-python",
   "name": "python",
   "nbconvert_exporter": "python",
   "pygments_lexer": "ipython3",
   "version": "3.5.2"
  }
 },
 "nbformat": 4,
 "nbformat_minor": 2
}
