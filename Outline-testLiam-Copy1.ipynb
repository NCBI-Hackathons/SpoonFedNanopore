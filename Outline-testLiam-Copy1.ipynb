{
 "cells": [
  {
   "cell_type": "markdown",
   "metadata": {},
   "source": [
    "Nanopore DNA sequencing is portable and relatively cheap, allowing real time sequencing in the field.  We see the potential to use nanopore sequencing as an accessible educational experience. With a clear pipeline that Just Works(TM), a citizen scientist could do WIMP (What's in my pot?) analysis on their own samples without the need for any external tools.  Undergrad or high school students could follow the steps of the pipeline to learn about the basics of genome assembly."
   ]
  },
  {
   "cell_type": "markdown",
   "metadata": {},
   "source": [
    "# Why Nanopore is amazing\n",
    "* Long reads, cheap, portable\n",
    "* Comparison to the current standard (Illumina)\n",
    "* Used for detecting ebola/zika?  Sent to space\n",
    "* Sequencing in the jungle (tweet below!)\n",
    "* Idea we care about: you should be able to take a random sample of stuff (ocean water?  dirt?) and sequence it cheaply and easily to find out what's there\n",
    "\n",
    "To see a video of nanopore sequencing in the jungle, click on the below block of code and click the \"Run\" button at the top of this page.  You can see on the left side of the code block that it's been run x number of times (\"In [x]\").  You'll see a star while the code is running (\"In [*]\") and once it's done, you'll be able to see the video."
   ]
  },
  {
   "cell_type": "code",
   "execution_count": 1,
   "metadata": {},
   "outputs": [
    {
     "data": {
      "text/html": [
       "<blockquote class=\"twitter-tweet\" data-lang=\"en\"><p lang=\"en\" dir=\"ltr\">Welcome to my laboratory :)<br><br>Sequencing long ribosomal cluster from plants, insects &amp; fungi in real-time in the Amazon rainforest. Within a few mins of <a href=\"https://twitter.com/nanopore?ref_src=twsrc%5Etfw\">@nanopore</a> data generated, performed BLAST &amp; got correct hits! Dual indexing looks great for pooling many samples<a href=\"https://twitter.com/hashtag/junglegenomics?src=hash&amp;ref_src=twsrc%5Etfw\">#junglegenomics</a> <a href=\"https://t.co/UQVjYfmU8U\">pic.twitter.com/UQVjYfmU8U</a></p>&mdash; Aaron Pomerantz (@AaronPomerantz) <a href=\"https://twitter.com/AaronPomerantz/status/980873273348038656?ref_src=twsrc%5Etfw\">April 2, 2018</a></blockquote>\n",
       "<script async src=\"https://platform.twitter.com/widgets.js\" charset=\"utf-8\"></script>"
      ],
      "text/plain": [
       "<IPython.core.display.HTML object>"
      ]
     },
     "metadata": {},
     "output_type": "display_data"
    }
   ],
   "source": [
    "%%html\n",
    "<blockquote class=\"twitter-tweet\" data-lang=\"en\"><p lang=\"en\" dir=\"ltr\">Welcome to my laboratory :)<br><br>Sequencing long ribosomal cluster from plants, insects &amp; fungi in real-time in the Amazon rainforest. Within a few mins of <a href=\"https://twitter.com/nanopore?ref_src=twsrc%5Etfw\">@nanopore</a> data generated, performed BLAST &amp; got correct hits! Dual indexing looks great for pooling many samples<a href=\"https://twitter.com/hashtag/junglegenomics?src=hash&amp;ref_src=twsrc%5Etfw\">#junglegenomics</a> <a href=\"https://t.co/UQVjYfmU8U\">pic.twitter.com/UQVjYfmU8U</a></p>&mdash; Aaron Pomerantz (@AaronPomerantz) <a href=\"https://twitter.com/AaronPomerantz/status/980873273348038656?ref_src=twsrc%5Etfw\">April 2, 2018</a></blockquote>\n",
    "<script async src=\"https://platform.twitter.com/widgets.js\" charset=\"utf-8\"></script>"
   ]
  },
  {
   "cell_type": "markdown",
   "metadata": {},
   "source": [
    "# How Nanopore actually works\n",
    "Insert a good paragraph description here:\n",
    "\n",
    "My current understanding is just like, DNA strand pulled through a pore, current across pore changes depending on the nucleotide, you end up with an electrical signal in fast5 format that can be converted to a fasta file (could be fastq but no one trusts quality scores?)\n",
    "\n",
    "## Poretools\n",
    "The raw data we get from nanopore sequencing is in the fast5 format.  This is just a series of current values that were read across the pore as the DNA strand passed through it.\n",
    "\n",
    "We are going to start by looking at this fast5 data, containing current values, and converting it to a fasta file that contains nucleotides. \n",
    "\n",
    "This poretools tutorial is adapted from here: http://nbviewer.jupyter.org/github/arq5x/poretools/blob/master/poretools/ipynb/test_run_report.ipynb\n",
    "\n",
    "First we're going to find our fast5 files.  Our sample fast5 file is in the \"data\" folder, so we set the variable dataDirectory to \"data/\".  If you are using your own data, change dataDirectory to the path to your .fast5 files."
   ]
  },
  {
   "cell_type": "code",
   "execution_count": 2,
   "metadata": {},
   "outputs": [
    {
     "name": "stdout",
     "output_type": "stream",
     "text": [
      "2\r\n"
     ]
    }
   ],
   "source": [
    "# dataDirectory is the path to our fast5 file.\n",
    "# If you are using your own data, change dataDirectory to the path to your .fast5 files.\n",
    "dataDirectory = 'data/'\n",
    "\n",
    "# Print the number of fast5 files in the dataDirectory.\n",
    "# Click the \"Run\" button at the top of this page to run this code.\n",
    "!find $dataDirectory -maxdepth 1 -name \"*.fast5\" | wc -l"
   ]
  },
  {
   "cell_type": "markdown",
   "metadata": {},
   "source": [
    "Poretools has a number of command line options.  Let's start with the stats command, which will give us some basic statistics about our reads."
   ]
  },
  {
   "cell_type": "code",
   "execution_count": 3,
   "metadata": {},
   "outputs": [
    {
     "name": "stdout",
     "output_type": "stream",
     "text": [
      "/usr/local/lib/python2.7/dist-packages/h5py/__init__.py:36: FutureWarning: Conversion of the second argument of issubdtype from `float` to `np.floating` is deprecated. In future, it will be treated as `np.float64 == np.dtype(float).type`.\n",
      "  from ._conv import register_converters as _register_converters\n",
      "total reads\t6\n",
      "total base pairs\t25217\n",
      "mean\t4202.83\n",
      "median\t4205\n",
      "min\t2940\n",
      "max\t5826\n",
      "N25\t5079\n",
      "N50\t5011\n",
      "N75\t3399\n"
     ]
    }
   ],
   "source": [
    "# The -q option stops poretools outputting any warning messages.\n",
    "!poretools stats -q $dataDirectory"
   ]
  },
  {
   "cell_type": "markdown",
   "metadata": {},
   "source": [
    "Our sample data has 6 reads and 25,217 base pairs. (Anything else of interest to say about this info?)\n",
    "\n",
    "We have 3 reads per fast5 because forward, reverse, and two-directional reads are all counted separately. (Is this correct?) We can see the stats about each of these types of reads using the below code."
   ]
  },
  {
   "cell_type": "code",
   "execution_count": 4,
   "metadata": {},
   "outputs": [
    {
     "name": "stdout",
     "output_type": "stream",
     "text": [
      "/usr/local/lib/python2.7/dist-packages/h5py/__init__.py:36: FutureWarning: Conversion of the second argument of issubdtype from `float` to `np.floating` is deprecated. In future, it will be treated as `np.float64 == np.dtype(float).type`.\n",
      "  from ._conv import register_converters as _register_converters\n",
      "total reads\t2\n",
      "total base pairs\t8019\n",
      "mean\t4009.50\n",
      "median\t4009\n",
      "min\t2940\n",
      "max\t5079\n",
      "N25\t5079\n",
      "N50\t5079\n",
      "N75\t2940\n"
     ]
    }
   ],
   "source": [
    "# Look at stats for forward strands\n",
    "!poretools stats -q --type fwd $dataDirectory"
   ]
  },
  {
   "cell_type": "code",
   "execution_count": 5,
   "metadata": {},
   "outputs": [
    {
     "name": "stdout",
     "output_type": "stream",
     "text": [
      "/usr/local/lib/python2.7/dist-packages/h5py/__init__.py:36: FutureWarning: Conversion of the second argument of issubdtype from `float` to `np.floating` is deprecated. In future, it will be treated as `np.float64 == np.dtype(float).type`.\n",
      "  from ._conv import register_converters as _register_converters\n",
      "total reads\t2\n",
      "total base pairs\t7973\n",
      "mean\t3986.50\n",
      "median\t3986\n",
      "min\t2962\n",
      "max\t5011\n",
      "N25\t5011\n",
      "N50\t5011\n",
      "N75\t2962\n"
     ]
    }
   ],
   "source": [
    "# Look at stats for reverse strands\n",
    "!poretools stats -q --type rev $dataDirectory"
   ]
  },
  {
   "cell_type": "code",
   "execution_count": 6,
   "metadata": {},
   "outputs": [
    {
     "name": "stdout",
     "output_type": "stream",
     "text": [
      "/usr/local/lib/python2.7/dist-packages/h5py/__init__.py:36: FutureWarning: Conversion of the second argument of issubdtype from `float` to `np.floating` is deprecated. In future, it will be treated as `np.float64 == np.dtype(float).type`.\n",
      "  from ._conv import register_converters as _register_converters\n",
      "total reads\t2\n",
      "total base pairs\t9225\n",
      "mean\t4612.50\n",
      "median\t4612\n",
      "min\t3399\n",
      "max\t5826\n",
      "N25\t5826\n",
      "N50\t5826\n",
      "N75\t3399\n"
     ]
    }
   ],
   "source": [
    "# Look at two-directional reads\n",
    "!poretools stats -q --type 2D $dataDirectory"
   ]
  },
  {
   "cell_type": "markdown",
   "metadata": {},
   "source": [
    "Hopefully we are going to add how to make a squiggle plot here at some point, that shows the current changing and gives a good idea of what signal actually looks like."
   ]
  },
  {
   "cell_type": "code",
   "execution_count": 7,
   "metadata": {},
   "outputs": [],
   "source": [
    "# Add squiggle plot here!!!"
   ]
  },
  {
   "cell_type": "markdown",
   "metadata": {},
   "source": [
    "Now we are going to convert our fast5 file to fasta.  Fasta is a common format for storing DNA sequences.  The below code will take each of the fast5 files in dataDirectory, create a fasta file of that sequence, and store it in a folder called fastaOutput."
   ]
  },
  {
   "cell_type": "code",
   "execution_count": 8,
   "metadata": {},
   "outputs": [
    {
     "name": "stdout",
     "output_type": "stream",
     "text": [
      "mkdir: cannot create directory ‘fastaOutput’: File exists\n",
      "/usr/local/lib/python2.7/dist-packages/h5py/__init__.py:36: FutureWarning: Conversion of the second argument of issubdtype from `float` to `np.floating` is deprecated. In future, it will be treated as `np.float64 == np.dtype(float).type`.\n",
      "  from ._conv import register_converters as _register_converters\n"
     ]
    }
   ],
   "source": [
    "# Make a folder to store our fasta files in.\n",
    "!mkdir fastaOutput\n",
    "\n",
    "# Convert our fast5 files to fasta.\n",
    "!poretools fasta $dataDirectory > fastaOutput/outputPoretoolData.fasta"
   ]
  },
  {
   "cell_type": "markdown",
   "metadata": {},
   "source": [
    "We can look at the first few lines of this fasta file to see what's in it.  Each of the sequences has a line containing \">\" and then a unique identfier, followed by a line containing the nucleotide sequence."
   ]
  },
  {
   "cell_type": "code",
   "execution_count": 9,
   "metadata": {},
   "outputs": [
    {
     "name": "stdout",
     "output_type": "stream",
     "text": [
      ">1405b039-941f-4f83-9a0b-1e746e05a1de_Basecall_2D_2d CPHG_CNU4299G4G_louse_library_2016_3_4_3507_1_ch120_read353_strand data/2016_3_4_3507_1_ch120_read353_strand.fast5\r\n",
      "AAGTGTCGTGCTCTATTGCTTTCTTTTTCTTCTTATATGGTTTGCCCACATCTTCTTTGACCAAATTTTCTTCAACGCTTCCTTCAGTTTTGATCCAGCTTAAGAACCACTTCCTATCGATCTGTTAACGTGCTTCTAACTTCATTTTCCAAAGTTTAAAACATTGTCTTCTATTCGCTTCTTTTCTTTGTTGCTAACAC\r\n"
     ]
    }
   ],
   "source": [
    "# This will show us the first 200 characters of the first two lines of our file.\n",
    "# We don't want to look at the whole sequence because it's going to be really long!\n",
    "!cut -c -200 fastaOutput/outputPoretoolData.fasta | head -2"
   ]
  },
  {
   "cell_type": "markdown",
   "metadata": {},
   "source": [
    "This fasta file containing our raw reads will be the input to the next steps in our pipeline."
   ]
  },
  {
   "cell_type": "code",
   "execution_count": 10,
   "metadata": {},
   "outputs": [
    {
     "name": "stdout",
     "output_type": "stream",
     "text": [
      "/usr/local/lib/python2.7/dist-packages/h5py/__init__.py:36: FutureWarning: Conversion of the second argument of issubdtype from `float` to `np.floating` is deprecated. In future, it will be treated as `np.float64 == np.dtype(float).type`.\r\n",
      "  from ._conv import register_converters as _register_converters\r\n"
     ]
    }
   ],
   "source": [
    "!poretools winner $dataDirectory > winner.fasta"
   ]
  },
  {
   "cell_type": "markdown",
   "metadata": {},
   "source": [
    "# Alignment and assembly\n",
    "\n",
    "(I don't really know how to explain this so I'll put Brandon's explanation in here)\n",
    "\n",
    "Minimap2, we take our fasta file of raw reads and we try to align all of the reads to each other (all vs. all).  In order to do this we tell minimap2 to compare our fasta file to itself.  We write this to another file that contains the (alignment?) called overlap.paf.\n",
    "\n",
    "Because real fast5 files are humongous (very high frequency resolution), we didn't use a real fast5 sample for poretools.  For this step, we want real sample data, so we're actually going to use a different fasta file.  We're going to wget this and then run minimap2 on it.\n"
   ]
  },
  {
   "cell_type": "code",
   "execution_count": 11,
   "metadata": {},
   "outputs": [
    {
     "name": "stdout",
     "output_type": "stream",
     "text": [
      "--2018-04-04 23:41:11--  https://nanopore.s3.climb.ac.uk/MAP006-1_2D_pass.fasta\n",
      "Resolving nanopore.s3.climb.ac.uk (nanopore.s3.climb.ac.uk)... 137.205.52.6\n",
      "Connecting to nanopore.s3.climb.ac.uk (nanopore.s3.climb.ac.uk)|137.205.52.6|:443... connected.\n",
      "HTTP request sent, awaiting response... 200 OK\n",
      "Length: 255168226 (243M) [text/plain]\n",
      "Saving to: ‘MAP006-1_2D_pass.fasta.2’\n",
      "\n",
      "MAP006-1_2D_pass.fa 100%[===================>] 243.35M  9.54MB/s    in 27s     \n",
      "\n",
      "2018-04-04 23:41:41 (8.92 MB/s) - ‘MAP006-1_2D_pass.fasta.2’ saved [255168226/255168226]\n",
      "\n"
     ]
    }
   ],
   "source": [
    "!wget https://nanopore.s3.climb.ac.uk/MAP006-1_2D_pass.fasta"
   ]
  },
  {
   "cell_type": "markdown",
   "metadata": {},
   "source": [
    "Now we're going to tell minimap2 to try to align these reads to each other and write the overlaps to a file called overlap.paf."
   ]
  },
  {
   "cell_type": "code",
   "execution_count": 22,
   "metadata": {},
   "outputs": [
    {
     "name": "stdout",
     "output_type": "stream",
     "text": [
      "[M::mm_idx_gen::9.833*1.00] collected minimizers\n",
      "[M::mm_idx_gen::16.358*1.00] sorted minimizers\n",
      "[M::main::16.358*1.00] loaded/built the index for 25483 target sequence(s)\n",
      "[M::mm_mapopt_update::17.041*1.00] mid_occ = 52\n",
      "[M::mm_idx_stat] kmer size: 15; skip: 5; is_hpc: 0; #seq: 25483\n",
      "[M::mm_idx_stat::17.454*1.00] distinct minimizers: 44056556 (79.15% are singletons); average occurrences: 1.918; average spacing: 2.942\n",
      "[M::worker_pipeline::146.993*1.00] mapped 25483 sequences\n",
      "[M::main] Version: 2.10-r763-dirty\n",
      "[M::main] CMD: minimap2 -x ava-ont -t 1 MAP006-1_2D_pass.fasta MAP006-1_2D_pass.fasta\n",
      "[M::main] Real time: 147.003 sec; CPU: 147.000 sec\n"
     ]
    }
   ],
   "source": [
    "!minimap2 -x ava-ont -t 1 MAP006-1_2D_pass.fasta MAP006-1_2D_pass.fasta > overlap.paf"
   ]
  },
  {
   "cell_type": "markdown",
   "metadata": {},
   "source": [
    "Miniasm, we take these overlapping reads and assemble them into contigs.  Need the raw reads from poretools and the overlap file from minimap2 (I don't really understand what this means so once again gonna use a paragraph from brandon).  (because this outputs a .gfa file, we're piping the output into awk and using that to convert it to fasta format, then writing it to asm.fa)\n",
    "\n",
    "A contig is a combination of several shorter reads that overlap to make one continuous sequence.  This \"contiguous\" segment of DNA is thought to be a true representation of a piece of the organism's genome."
   ]
  },
  {
   "cell_type": "code",
   "execution_count": 23,
   "metadata": {},
   "outputs": [
    {
     "name": "stdout",
     "output_type": "stream",
     "text": [
      "[M::main] ===> Step 1: reading read mappings <===\n",
      "[M::ma_hit_read::1.251*1.00] read 1202285 hits; stored 1888486 hits and 24307 sequences (241394465 bp)\n",
      "[M::main] ===> Step 2: 1-pass (crude) read selection <===\n",
      "[M::ma_hit_sub::1.570*1.00] 24211 query sequences remain after sub\n",
      "[M::ma_hit_cut::1.602*1.00] 1879366 hits remain after cut\n",
      "[M::ma_hit_flt::1.635*1.00] 1836573 hits remain after filtering; crude coverage after filtering: 45.23\n",
      "[M::main] ===> Step 3: 2-pass (fine) read selection <===\n",
      "[M::ma_hit_sub::1.751*1.00] 24203 query sequences remain after sub\n",
      "[M::ma_hit_cut::1.782*1.00] 1836216 hits remain after cut\n",
      "[M::ma_hit_contained::1.819*1.00] 1580 sequences and 15813 hits remain after containment removal\n",
      "[M::main] ===> Step 4: graph cleaning <===\n",
      "[M::ma_sg_gen] read 15464 arcs\n",
      "[M::main] ===> Step 4.1: transitive reduction <===\n",
      "[M::asg_arc_del_trans] transitively reduced 11947 arcs\n",
      "[M::asg_arc_del_multi] removed 0 multi-arcs\n",
      "[M::asg_arc_del_asymm] removed 157 asymmetric arcs\n",
      "[M::main] ===> Step 4.2: initial tip cutting and bubble popping <===\n",
      "[M::asg_cut_tip] cut 24 tips\n",
      "[M::asg_pop_bubble] popped 63 bubbles and trimmed 0 tips\n",
      "[M::main] ===> Step 4.3: cutting short overlaps (3 rounds in total) <===\n",
      "[M::asg_arc_del_multi] removed 0 multi-arcs\n",
      "[M::asg_arc_del_asymm] removed 2 asymmetric arcs\n",
      "[M::asg_arc_del_short] removed 14 short overlaps\n",
      "[M::asg_cut_tip] cut 2 tips\n",
      "[M::asg_pop_bubble] popped 6 bubbles and trimmed 0 tips\n",
      "[M::asg_arc_del_short] removed 0 short overlaps\n",
      "[M::asg_arc_del_short] removed 0 short overlaps\n",
      "[M::main] ===> Step 4.4: removing short internal sequences and bi-loops <===\n",
      "[M::asg_cut_internal] cut 0 internal sequences\n",
      "[M::asg_cut_biloop] cut 0 small bi-loops\n",
      "[M::asg_cut_tip] cut 0 tips\n",
      "[M::asg_pop_bubble] popped 0 bubbles and trimmed 0 tips\n",
      "[M::main] ===> Step 4.5: aggressively cutting short overlaps <===\n",
      "[M::asg_arc_del_short] removed 0 short overlaps\n",
      "[M::main] ===> Step 5: generating unitigs <===\n",
      "[M::main] Version: 0.2-r168-dirty\n",
      "[M::main] CMD: miniasm -f MAP006-1_2D_pass.fasta overlap.paf\n",
      "[M::main] Real time: 2.314 sec; CPU: 2.116 sec\n"
     ]
    }
   ],
   "source": [
    "!miniasm -f MAP006-1_2D_pass.fasta overlap.paf | awk '/^S/{print \">\"$2\"\\n\"$3}' | fold > asm.fa"
   ]
  },
  {
   "cell_type": "markdown",
   "metadata": {},
   "source": [
    "In order to determine which species are found  within our samples we will first need to find and/or build a database of species. We will get the sequence for each genome from the Ensemble Genome Database and the SGD. For this example we will simply pull 5 genomes. However, we could easily build a larger database. \n",
    "\n",
    "Note: If we wanted to build a database of  1000 genomes each 0.5Gb in size it would require a hard drive with 500Gb of space.  \n",
    "\n",
    "This  is  accmplished with the wget cmd line tool. (Here the  mv tool is used to rename the yeast genome to contain the name  yeast and to relabel is extension .fasta to .fa)"
   ]
  },
  {
   "cell_type": "code",
   "execution_count": 14,
   "metadata": {},
   "outputs": [
    {
     "name": "stdout",
     "output_type": "stream",
     "text": [
      "--2018-04-04 23:45:30--  ftp://ftp.ensemblgenomes.org/pub/bacteria/release-33/fasta/bacteria_9_collection/escherichia_coli_0_1304/dna/Escherichia_coli_0_1304.GCA_000303235_1.dna.nonchromosomal.fa.gz\n",
      "           => ‘Escherichia_coli_0_1304.GCA_000303235_1.dna.nonchromosomal.fa.gz.1’\n",
      "Resolving ftp.ensemblgenomes.org (ftp.ensemblgenomes.org)... 193.62.197.94\n",
      "Connecting to ftp.ensemblgenomes.org (ftp.ensemblgenomes.org)|193.62.197.94|:21... connected.\n",
      "Logging in as anonymous ... Logged in!\n",
      "==> SYST ... done.    ==> PWD ... done.\n",
      "==> TYPE I ... done.  ==> CWD (1) /pub/bacteria/release-33/fasta/bacteria_9_collection/escherichia_coli_0_1304/dna ... done.\n",
      "==> SIZE Escherichia_coli_0_1304.GCA_000303235_1.dna.nonchromosomal.fa.gz ... 1679590\n",
      "==> PASV ... done.    ==> RETR Escherichia_coli_0_1304.GCA_000303235_1.dna.nonchromosomal.fa.gz ... done.\n",
      "Length: 1679590 (1.6M) (unauthoritative)\n",
      "\n",
      "Escherichia_coli_0_ 100%[===================>]   1.60M  1.22MB/s    in 1.3s    \n",
      "\n",
      "2018-04-04 23:45:34 (1.22 MB/s) - ‘Escherichia_coli_0_1304.GCA_000303235_1.dna.nonchromosomal.fa.gz.1’ saved [1679590]\n",
      "\n",
      "--2018-04-04 23:45:35--  ftp://ftp.ensemblgenomes.org/pub/release-38/bacteria//fasta/bacteria_15_collection/_clostridium_asparagiforme_dsm_15981/dna/_clostridium_asparagiforme_dsm_15981.ASM15807v1.dna.nonchromosomal.fa.gz\n",
      "           => ‘_clostridium_asparagiforme_dsm_15981.ASM15807v1.dna.nonchromosomal.fa.gz.1’\n",
      "Resolving ftp.ensemblgenomes.org (ftp.ensemblgenomes.org)... 193.62.197.94\n",
      "Connecting to ftp.ensemblgenomes.org (ftp.ensemblgenomes.org)|193.62.197.94|:21... connected.\n",
      "Logging in as anonymous ... Logged in!\n",
      "==> SYST ... done.    ==> PWD ... done.\n",
      "==> TYPE I ... done.  ==> CWD (1) /pub/release-38/bacteria//fasta/bacteria_15_collection/_clostridium_asparagiforme_dsm_15981/dna ... done.\n",
      "==> SIZE _clostridium_asparagiforme_dsm_15981.ASM15807v1.dna.nonchromosomal.fa.gz ... 1934720\n",
      "==> PASV ... done.    ==> RETR _clostridium_asparagiforme_dsm_15981.ASM15807v1.dna.nonchromosomal.fa.gz ... done.\n",
      "Length: 1934720 (1.8M) (unauthoritative)\n",
      "\n",
      "_clostridium_aspara 100%[===================>]   1.84M  1.41MB/s    in 1.3s    \n",
      "\n",
      "2018-04-04 23:45:40 (1.41 MB/s) - ‘_clostridium_asparagiforme_dsm_15981.ASM15807v1.dna.nonchromosomal.fa.gz.1’ saved [1934720]\n",
      "\n",
      "--2018-04-04 23:45:40--  ftp://ftp.ensemblgenomes.org/pub/release-38/bacteria//fasta/bacteria_176_collection/_bacillus_aminovorans/dna/_bacillus_aminovorans.ASM164324v1.dna.nonchromosomal.fa.gz\n",
      "           => ‘_bacillus_aminovorans.ASM164324v1.dna.nonchromosomal.fa.gz.1’\n",
      "Resolving ftp.ensemblgenomes.org (ftp.ensemblgenomes.org)... 193.62.197.94\n",
      "Connecting to ftp.ensemblgenomes.org (ftp.ensemblgenomes.org)|193.62.197.94|:21... connected.\n",
      "Logging in as anonymous ... Logged in!\n",
      "==> SYST ... done.    ==> PWD ... done.\n",
      "==> TYPE I ... done.  ==> CWD (1) /pub/release-38/bacteria//fasta/bacteria_176_collection/_bacillus_aminovorans/dna ... done.\n",
      "==> SIZE _bacillus_aminovorans.ASM164324v1.dna.nonchromosomal.fa.gz ... 1258532\n",
      "==> PASV ... done.    ==> RETR _bacillus_aminovorans.ASM164324v1.dna.nonchromosomal.fa.gz ... done.\n",
      "Length: 1258532 (1.2M) (unauthoritative)\n",
      "\n",
      "_bacillus_aminovora 100%[===================>]   1.20M  1.04MB/s    in 1.2s    \n",
      "\n",
      "2018-04-04 23:45:44 (1.04 MB/s) - ‘_bacillus_aminovorans.ASM164324v1.dna.nonchromosomal.fa.gz.1’ saved [1258532]\n",
      "\n",
      "--2018-04-04 23:45:45--  https://downloads.yeastgenome.org/sequence/S288C_reference/orf_dna/orf_genomic_1000_all.fasta.gz\n",
      "Resolving downloads.yeastgenome.org (downloads.yeastgenome.org)... 171.67.205.66\n",
      "Connecting to downloads.yeastgenome.org (downloads.yeastgenome.org)|171.67.205.66|:443... connected.\n",
      "HTTP request sent, awaiting response... 200 OK\n",
      "Length: 6875105 (6.6M) [application/x-gzip]\n",
      "Saving to: ‘orf_genomic_1000_all.fasta.gz’\n",
      "\n",
      "orf_genomic_1000_al 100%[===================>]   6.56M  10.2MB/s    in 0.6s    \n",
      "\n",
      "2018-04-04 23:45:45 (10.2 MB/s) - ‘orf_genomic_1000_all.fasta.gz’ saved [6875105/6875105]\n",
      "\n"
     ]
    }
   ],
   "source": [
    "# Retrieve genome sequences for each species\n",
    "!wget ftp://ftp.ensemblgenomes.org/pub/bacteria/release-33/fasta/bacteria_9_collection/escherichia_coli_0_1304/dna/Escherichia_coli_0_1304.GCA_000303235_1.dna.nonchromosomal.fa.gz\n",
    "!wget ftp://ftp.ensemblgenomes.org/pub/release-38/bacteria//fasta/bacteria_15_collection/_clostridium_asparagiforme_dsm_15981/dna/_clostridium_asparagiforme_dsm_15981.ASM15807v1.dna.nonchromosomal.fa.gz\n",
    "!wget ftp://ftp.ensemblgenomes.org/pub/release-38/bacteria//fasta/bacteria_176_collection/_bacillus_aminovorans/dna/_bacillus_aminovorans.ASM164324v1.dna.nonchromosomal.fa.gz\n",
    "!wget https://downloads.yeastgenome.org/sequence/S288C_reference/orf_dna/orf_genomic_1000_all.fasta.gz \n",
    "!mv  orf_genomic_1000_all.fasta.gz yeast_genomic_1000_all.fa.gz "
   ]
  },
  {
   "cell_type": "markdown",
   "metadata": {},
   "source": [
    "There are many techniques to identify which species you have sequenced. One example is to try to align each of our contigs to each reference  in our database. However that is extreamly computationally intensive. Instead here we will use a computationally light application called MASH which calculates an  estimate  for  the  distance between our querry sequence and each reference.\n",
    "\n",
    "There are many techniques to identify which species you have sequenced. One approach would be to try to align each of our contigs to each reference in our database. However, that would be extremely computationally intensive. Instead here we will use a computationally light application called MASH, which calculates an estimate for the distance between our query sequence and each reference.  In this context, distance refers to how similar or different two genomes are.\n",
    "\n",
    "# Mash for taxonomy classification\n",
    "First we must form a sketch from each of our reference genomes. A sketch is a minified representation of a reference. This contains less information than a whole genome sequence, but still allows us to calculate the distance between each of the references and our query.\n",
    "\n",
    "We have already downloaded the sequences for each sample species described above. Now we must build the sketch of each reference using the command sketch from the mash tool.\n",
    "\n",
    "First we  must form a sketch from each of our reference genomes. A sketch is a minified representation of a reference. However,it maintains the protperty that we  can still  calculate  the distance between each of the  references and our quarry.\n",
    "\n",
    "We have already downloaded the sequences for each sample speceis described above. Now we must build the sketch of each reference this is done  using  the command sketch. \n",
    "\n",
    "Here we use  the -o options to name the sketch output file."
   ]
  },
  {
   "cell_type": "markdown",
   "metadata": {},
   "source": [
    "You should be able to see these four files in your directory now."
   ]
  },
  {
   "cell_type": "code",
   "execution_count": 20,
   "metadata": {},
   "outputs": [
    {
     "name": "stdout",
     "output_type": "stream",
     "text": [
      "Sketching Escherichia_coli_0_1304.GCA_000303235_1.dna.nonchromosomal.fa.gz...\n",
      "Sketching _bacillus_aminovorans.ASM164324v1.dna.nonchromosomal.fa.gz...\n",
      "Sketching _clostridium_asparagiforme_dsm_15981.ASM15807v1.dna.nonchromosomal.fa.gz...\n",
      "Sketching yeast_genomic_1000_all.fa.gz...\n",
      "Writing to reference.msh...\n"
     ]
    }
   ],
   "source": [
    "# The -o option allows us to name the sketch output file.\n",
    "!mash sketch *.fa.gz -o reference"
   ]
  },
  {
   "cell_type": "markdown",
   "metadata": {},
   "source": [
    "Now we have our database of references in one file, reference.msh.  We want to take our assembly from before and compare it to the reference database.\n",
    "\n",
    "When we assembled our contigs using miniasm, it tried to piece together all of the individual strands of DNA sequenced by the Nanopore.  If more than one species was present or the assembler couldn't figure out where to place small pieces of the organism's genome, then the assembly will be made of multiple contigs.  If we sequenced human DNA, we would naturally get many contigs, one for each chromosome.  In practice, it's hard to piece together the whole genome so even within one chromosome some gaps may remain unfilled.\n",
    "\n",
    "To build a sketch for each contig we must us the -i option of the sketch command. This option tells mash to treat each contig as its own seperate entity. Here we again use the -o option as described above."
   ]
  },
  {
   "cell_type": "code",
   "execution_count": 24,
   "metadata": {},
   "outputs": [
    {
     "name": "stdout",
     "output_type": "stream",
     "text": [
      "Sketching asm.fa...\n",
      "Writing to contigs.msh...\n"
     ]
    }
   ],
   "source": [
    "# Note: if there's no star on the left side of the code block (\"In [*]:\") then you know it's done running.\n",
    "!mash sketch -i asm.fa -o contigs"
   ]
  },
  {
   "cell_type": "markdown",
   "metadata": {},
   "source": [
    "Now we are prepared to compute the distances between each contig and each reference. This is accomplished using the dist command. The '>' signifies to take the output from the following program and create a file called distance.tab."
   ]
  },
  {
   "cell_type": "code",
   "execution_count": 25,
   "metadata": {},
   "outputs": [],
   "source": [
    "!mash dist reference.msh contigs.msh > distance.tab"
   ]
  },
  {
   "cell_type": "markdown",
   "metadata": {},
   "source": [
    "We can use the head command to look at the first five lines of this distance file. This file is organized into the following columns: [reference-ID, query-ID, distance, p-value, shared-hashes]"
   ]
  },
  {
   "cell_type": "code",
   "execution_count": 26,
   "metadata": {},
   "outputs": [
    {
     "name": "stdout",
     "output_type": "stream",
     "text": [
      "Escherichia_coli_0_1304.GCA_000303235_1.dna.nonchromosomal.fa.gz\tutg000001l\t0.0843302\t0\t93/1000\r\n",
      "_bacillus_aminovorans.ASM164324v1.dna.nonchromosomal.fa.gz\tutg000001l\t1\t1\t0/1000\r\n",
      "_clostridium_asparagiforme_dsm_15981.ASM15807v1.dna.nonchromosomal.fa.gz\tutg000001l\t1\t1\t0/1000\r\n",
      "yeast_genomic_1000_all.fa.gz\tutg000001l\t1\t1\t0/1000\r\n"
     ]
    }
   ],
   "source": [
    "!head distance.tab"
   ]
  },
  {
   "cell_type": "markdown",
   "metadata": {},
   "source": [
    "Now using a little python wizardry we  can find  the  most likely genome from our Database that represents each of our contigs from our  initial assebmly.  \n",
    "\n",
    "What we want to do is determine which species has the miminum  distance  from  each contig. This is accmplished below by building a dictionary that  associates a contig with its closest reference throwing away all others.\n",
    "\n",
    "If you do not know python dont be intimidated!! You can ninja too."
   ]
  },
  {
   "cell_type": "code",
   "execution_count": 27,
   "metadata": {},
   "outputs": [],
   "source": [
    "## A Shirt Code snippit that gets the closest Reference  for each Contig\n",
    "import collections                                                             ##This line loads some extra python features for use\n",
    "Reference = collections.namedtuple('Reference', ['name', 'distance','pvalue']) ##This creates a dummy \"class/namespace\" That has attributes for each componants of a distance measurement.\n",
    "contigs   = collections.defaultdict(lambda : Reference(None, 1, 1)  )          ##A mapping between contigs and Reference_distances. By default each Contig is given the \"null\" reference.\n",
    "with open(\"distance.tab\")  as infile:                                          ##Opens a file for  reading this file is  a  list  of  lines.\n",
    "    for reference, contig, distance, pvalue, matches in map(str.split,infile): ##this callsthe  string  split  function  on each line and  then upacks the splitline into 4 named columns.\n",
    "        candidate = Reference(str(reference), float(distance), float(pvalue))  ##Creates a  Reference object for each contig  reference pair\n",
    "        if contigs[contig].distance > candidate.distance:                      ##Compares each reference to the best reference.\n",
    "                contigs[contig]  = candidate                                   ##Keeps the best  reference\n"
   ]
  },
  {
   "cell_type": "code",
   "execution_count": 31,
   "metadata": {},
   "outputs": [
    {
     "name": "stdout",
     "output_type": "stream",
     "text": [
      "P-value   =  0.0\n",
      "Reference =  Escherichia_coli_0_1304.GCA_000303235_1.dna.nonchromosomal.fa.gz\n",
      "contig    =  utg000001l\n",
      "\n"
     ]
    }
   ],
   "source": [
    "##Print out the best Reference for each Contig\n",
    "for contig, reference in contigs.items():            # Goes Through each contig  reference pair\n",
    "    print(\"P-value   = \", reference.pvalue)\n",
    "    print(\"Reference = \", reference.name)\n",
    "    print(\"contig    = \",          contig)  # Prints the conig referenceand pvalue The best one!\n",
    "    print()\n",
    "##Can Print every Uniq taxa  found in the contig list!\n",
    "# for taxa in set(reference.name  for reference  in  contigs.values()): #Iterates through every uniue taxa\n",
    "#     print(taxa)                                                       #Prints out  each  unique taxa."
   ]
  },
  {
   "cell_type": "markdown",
   "metadata": {},
   "source": [
    "# Using MetaGenomeMark to Describe Gene Information\n",
    "- meta genome mark will take the fasta file of the assembled genome\n",
    "- tell you what genes are in the genome\n",
    "\n",
    "\n",
    "genomeOutputAssembled.fa - input file from Canu"
   ]
  },
  {
   "cell_type": "code",
   "execution_count": 32,
   "metadata": {},
   "outputs": [
    {
     "name": "stdout",
     "output_type": "stream",
     "text": [
      "/work/data\n",
      "gmhmmp\tINSTALL  LICENSE  MetaGeneMark_v1.mod  README.MetaGeneMark\n"
     ]
    }
   ],
   "source": [
    "!pwd\n",
    "!ls /work/MetaGeneMark_linux_64/mgm"
   ]
  },
  {
   "cell_type": "markdown",
   "metadata": {},
   "source": [
    "## This will obtain a GFF file"
   ]
  },
  {
   "cell_type": "code",
   "execution_count": 33,
   "metadata": {
    "scrolled": true
   },
   "outputs": [],
   "source": [
    "!gmhmmp -a -r -f G -d -m ../MetaGeneMark_linux_64/mgm/MetaGeneMark_v1.mod -o sequence.gff asm.fa\n"
   ]
  },
  {
   "cell_type": "markdown",
   "metadata": {},
   "source": [
    "### Using this gff file, we can learn what genes are in your sample!"
   ]
  },
  {
   "cell_type": "markdown",
   "metadata": {},
   "source": [
    "A GFF file has the columns: \n",
    "- seqname - name of the chromosome or scaffold\n",
    "- source - name of the program that generated this feature: GeneMark.hmm\n",
    "- feature - name of Gene, Variation, or Similarity\n",
    "- start - Start position of the feature, with sequence numbering starting at 1.\n",
    "- end - End position of the feature, with sequence numbering starting at 1.\n",
    "- score - A floating point value.\n",
    "- strand - defined as + (forward) or - (reverse).\n",
    "- frame - One of '0', '1' or '2'. '0' indicates that the first base of the feature is the first base of a codon, '1' that the second base is the first base of a codon, and so on..\n",
    "- attribute - A semicolon-separated list of tag-value pairs, providing additional information about each feature."
   ]
  },
  {
   "cell_type": "markdown",
   "metadata": {},
   "source": [
    "### Quick look at GFF file"
   ]
  },
  {
   "cell_type": "code",
   "execution_count": 34,
   "metadata": {},
   "outputs": [
    {
     "name": "stdout",
     "output_type": "stream",
     "text": [
      "##gff-version 2\r\n",
      "##source-version GeneMark.hmm_PROKARYOTIC 3.38\r\n",
      "##date: Thu Apr  5 00:00:46 2018\r\n",
      "# Sequence file name: asm.fa\r\n",
      "# Model file name: ../MetaGeneMark_linux_64/mgm/MetaGeneMark_v1.mod\r\n",
      "# RBS: true\r\n",
      "\r\n",
      "# Model information: Heuristic_model_for_genetic_code_11_and_GC_51\r\n",
      "\r\n",
      "utg000001l\tGeneMark.hmm\tCDS\t1\t72\t2.248856\t+\t0\tgene_id=1\r\n",
      "utg000001l\tGeneMark.hmm\tCDS\t1984\t2214\t0.337658\t+\t0\tgene_id=2\r\n",
      "utg000001l\tGeneMark.hmm\tCDS\t2289\t2411\t-2.242110\t+\t0\tgene_id=3\r\n",
      "utg000001l\tGeneMark.hmm\tCDS\t3078\t3404\t-8.565622\t+\t0\tgene_id=4\r\n",
      "utg000001l\tGeneMark.hmm\tCDS\t3420\t3665\t5.495138\t+\t0\tgene_id=5\r\n",
      "utg000001l\tGeneMark.hmm\tCDS\t11382\t11618\t0.812308\t-\t0\tgene_id=6\r\n",
      "utg000001l\tGeneMark.hmm\tCDS\t12156\t12431\t-0.839825\t-\t0\tgene_id=7\r\n",
      "utg000001l\tGeneMark.hmm\tCDS\t12557\t12790\t2.258979\t+\t0\tgene_id=8\r\n",
      "utg000001l\tGeneMark.hmm\tCDS\t13044\t13190\t6.278825\t+\t0\tgene_id=9\r\n",
      "utg000001l\tGeneMark.hmm\tCDS\t15513\t15620\t-1.745413\t-\t0\tgene_id=10\r\n",
      "utg000001l\tGeneMark.hmm\tCDS\t15624\t15899\t-8.697843\t-\t0\tgene_id=11\r\n"
     ]
    }
   ],
   "source": [
    "!head -20 sequence.gff"
   ]
  },
  {
   "cell_type": "markdown",
   "metadata": {},
   "source": [
    "### Goal: Getting FASTA files of all contigs listed \n",
    "This is your assembly file"
   ]
  },
  {
   "cell_type": "code",
   "execution_count": 35,
   "metadata": {
    "scrolled": true
   },
   "outputs": [
    {
     "name": "stdout",
     "output_type": "stream",
     "text": [
      ">utg000001l\r\n",
      "TTGCTCGGTTTTATTACTTTAGGCATTTATACTCCGCTGGAAGCGTGTGACCTGCTCAAAATAATTGCATGAGTTGCCCA\r\n",
      "TCGATTGTAAGCTCTATTGAGCACTGCTCATTAATATACTTCTGGGTTCCTCAGTTCCAGTTGTTTTGCATAGTGATCAG\r\n",
      "CCTCTCTGAGGGTGAAATAATCCCGTTCAGCGGTGTCTGCCAGTCGGGGGGAGGCTGCATTATCACGCCGGAGGCTGCGG\r\n",
      "CTTCACGCATGACTGACAGACTGCTTTGATGTGCAACCGACGACCAAGAGCGGCAGCAACATCATCACGCAGAGCATCAT\r\n",
      "TTTCAGCTTCGCATCAGCTAACTCCTTCGTGTATTTTGCAGCGACGCAGCAACATCACGCTGACGCATCTGCATGTCAGT\r\n",
      "AATTGCCGCGTTCGCTAGCTTTTGCCAGTTCTCTCTGGCATTTTGTCGCCTGGACTTTGTAGGCGATTGCGTTATCACAC\r\n",
      "GGTAATGATTGACCGCCCATGACAGGCTGACGATGATGCAGATAATCAGAGCGGATATAATCGCGGTTACTCTGCTCACT\r\n",
      "GTTGCCCCCACAAACAGACTTCACGCTCAATCTCACGACGAGTCATCAGGCCTTTCCCATTATTGCTTACCGCCAGCGTA\r\n",
      "TGTCCAGCGACGCAGCTGATGGATGCGCCTTTGATATCGCCCTGGTTTATTTTGCGAAGAAGCGTCGATGTTCTAAATTG\r\n"
     ]
    }
   ],
   "source": [
    "!head asm.fa"
   ]
  },
  {
   "cell_type": "markdown",
   "metadata": {},
   "source": [
    "### The GFF file has unecessary headers that we don't need.\n",
    "Run this sed command in unix to remove them"
   ]
  },
  {
   "cell_type": "code",
   "execution_count": 36,
   "metadata": {},
   "outputs": [],
   "source": [
    "!sed -i -e 1,9d sequence.gff"
   ]
  },
  {
   "cell_type": "markdown",
   "metadata": {},
   "source": [
    "This is our current GFF file, followed how many contigs found"
   ]
  },
  {
   "cell_type": "code",
   "execution_count": 37,
   "metadata": {},
   "outputs": [
    {
     "name": "stdout",
     "output_type": "stream",
     "text": [
      "utg000001l\tGeneMark.hmm\tCDS\t1\t72\t2.248856\t+\t0\tgene_id=1\n",
      "utg000001l\tGeneMark.hmm\tCDS\t1984\t2214\t0.337658\t+\t0\tgene_id=2\n",
      "utg000001l\tGeneMark.hmm\tCDS\t2289\t2411\t-2.242110\t+\t0\tgene_id=3\n",
      "utg000001l\tGeneMark.hmm\tCDS\t3078\t3404\t-8.565622\t+\t0\tgene_id=4\n",
      "utg000001l\tGeneMark.hmm\tCDS\t3420\t3665\t5.495138\t+\t0\tgene_id=5\n",
      "utg000001l\tGeneMark.hmm\tCDS\t11382\t11618\t0.812308\t-\t0\tgene_id=6\n",
      "utg000001l\tGeneMark.hmm\tCDS\t12156\t12431\t-0.839825\t-\t0\tgene_id=7\n",
      "utg000001l\tGeneMark.hmm\tCDS\t12557\t12790\t2.258979\t+\t0\tgene_id=8\n",
      "utg000001l\tGeneMark.hmm\tCDS\t13044\t13190\t6.278825\t+\t0\tgene_id=9\n",
      "utg000001l\tGeneMark.hmm\tCDS\t15513\t15620\t-1.745413\t-\t0\tgene_id=10\n",
      "utg000001l\tGeneMark.hmm\tCDS\t15624\t15899\t-8.697843\t-\t0\tgene_id=11\n",
      "utg000001l\tGeneMark.hmm\tCDS\t16628\t16783\t-4.989063\t+\t0\tgene_id=12\n",
      "utg000001l\tGeneMark.hmm\tCDS\t17340\t17516\t-4.470129\t-\t0\tgene_id=13\n",
      "utg000001l\tGeneMark.hmm\tCDS\t20076\t20378\t-6.331264\t+\t0\tgene_id=14\n",
      "utg000001l\tGeneMark.hmm\tCDS\t21634\t21828\t4.955708\t+\t0\tgene_id=15\n",
      "utg000001l\tGeneMark.hmm\tCDS\t23066\t23227\t0.340974\t-\t0\tgene_id=16\n",
      "utg000001l\tGeneMark.hmm\tCDS\t24325\t24528\t-1.483387\t+\t0\tgene_id=17\n",
      "utg000001l\tGeneMark.hmm\tCDS\t24936\t25271\t-12.914814\t+\t0\tgene_id=18\n",
      "utg000001l\tGeneMark.hmm\tCDS\t25268\t25582\t-10.738983\t+\t0\tgene_id=19\n",
      "utg000001l\tGeneMark.hmm\tCDS\t25814\t25984\t8.748608\t+\t0\tgene_id=20\n",
      "60633 sequence.gff\n"
     ]
    }
   ],
   "source": [
    "!head -20 sequence.gff\n",
    "!wc -l sequence.gff"
   ]
  },
  {
   "cell_type": "markdown",
   "metadata": {},
   "source": [
    "### Run this to slice the FASTA sequences from the assembly from the GFF start and stop indecies"
   ]
  },
  {
   "cell_type": "code",
   "execution_count": 38,
   "metadata": {
    "scrolled": true
   },
   "outputs": [
    {
     "name": "stdout",
     "output_type": "stream",
     "text": [
      "This is the header for your assembly fasta: utg000001l\n",
      ">CDS3087214-3088254\n",
      "TGGCGGATTACCACGTGCGTCGCGAAGAACGAGCAGATGGTGAGGCGCACTGGCAGAAAGAGATGACGCTACCGCGATGCGCTCTCTGTTTTGTTGCGCGGGGATGCGAGGGTGCTGCCGGTGGTGAACGACATGCAGGGCCAGCCTTGCGGCACGCTGCATTTGGAGCGTACTGCTGGTGGAGGCGTAAGCGTATGGCGACAGATGGTCTGGCCCCCAATCCGCTGTTCTGGCTCATTGCTCTGTTTGTGGCGCTCTTGATTTTCTGGCTGCCTTACAGCCAGCCGCTAGTTTGCTGCCTTGTTCCCACAACTGTGCCACGACCCGTTTATCAGCTACAAGAAGTTTTCAGCATCACTGGGGTGAGCCATTTCTGGCTGTGGGAATTCGCGTTTGTTGCGGTAGACTATTGGCTAACTGCCCCCGAATTGCGTCAAGCCCGTGGGCCGCGCCAAGATTTCGCCCACTGGTGGAGGAGAAACTATTGCCGCCGTGTTGGACAGACTATGTTCCGCCCGCGCATTCCTCGGTGCTGGCAAATCGCCCGTTCCGGTGATCGGCTGTTAGTCTGCAACCAGCGATTGCCGCGCCTTGATCACCTTTACGGTGTGCTCTGCCCGTCATGCGGCAGATGTTACAAGTCAAACCATAGATTGGTGCACAGAGCGTACGGAAGTTACTGGAAGGTATGGGAATCAGTCGTGATCCGAGTGCGTAAGTCGAGCTACCGCTGGCGGCTCCGGTGTAATTCTGGCGGCGTGCGAGAATTCATTATTAACATGGTACGGCGGGACGTACGCCTCAACGGTAGGGGCCCGCTAAAGCGCTGGGTACGCCCATCATCATCGGGCTGCGGATTTAATACCGCGTATGTGATCGGAGGGGCGTTACCGGGTGGCACTGAGGCGATCATCGCAACCGCCTGTTTGAAAGGCCTGGTGCAGGCGCTTAGCCAGGGGCAGCAAATAAAGGTAACCTGCGAGAGCATGACGCCACCAATTCCGCCTAACGCCCATAAACAGGAACAGGGCGATATCTGA\n",
      "\n"
     ]
    }
   ],
   "source": [
    "# This python script will get the start and stop indexes from the GFF \n",
    "# and get FASTA sequences from the assembly \n",
    "\n",
    "import csv\n",
    "\n",
    "nameOfContig = list()\n",
    "startIndexList = list()\n",
    "stopIndexList = list()\n",
    "# get start and stop indexes in the GFF file\n",
    "with open(\"sequence.gff\") as tsv:\n",
    "    for line in csv.reader(tsv, dialect=\"excel-tab\"): #You can also use delimiter=\"\\t\" rather than giving a dialect.\n",
    "        if len(line) > 1:\n",
    "            nameOfContig.append(\"\"+str(line[2:3][0])+str(line[3:4][0])+\"-\"+str(line[4:5][0]))\n",
    "            startIndexList.append(line[3:4])\n",
    "            stopIndexList.append(line[4:5])\n",
    "startAndStopList = list(zip(nameOfContig,startIndexList,stopIndexList))\n",
    "\n",
    "# Use BioPython to assemble output FASTA file\n",
    "from Bio import SeqIO\n",
    "sequences = list()\n",
    "for record in SeqIO.parse(\"asm.fa\", \"fasta\"):\n",
    "    print(\"This is the header for your assembly fasta: \"+record.id)\n",
    "    for name,start,stop in startAndStopList :\n",
    "        if start != [] and stop != [] :\n",
    "            sequences.append(record.seq[int(start[0]):int(stop[0])])\n",
    "fastaList = list(zip(nameOfContig, sequences))\n",
    "with open(\"annotatedGene.fa\", \"w\") as output_handle:\n",
    "    for name, seq in fastaList:\n",
    "        fasta_format_string = \">\"+name+\"\\n%s\\n\" % seq\n",
    "        output_handle.write(fasta_format_string)\n",
    "\n",
    "# Get the largest FASTA sequence\n",
    "maxFasta = max(fastaList, key=lambda x: len(x[1]))\n",
    "fasta_format_string = \">\"+str(maxFasta[0])+\"\\n%s\\n\" % str(maxFasta[1])\n",
    "print(fasta_format_string)\n",
    "\n",
    "# Blastn the largest sequence\n",
    "from Bio.Blast import NCBIWWW\n",
    "result_handle = NCBIWWW.qblast(\"blastx\", \"nr\", str(maxFasta[1]))\n",
    "\n"
   ]
  },
  {
   "cell_type": "markdown",
   "metadata": {},
   "source": [
    "### Annotated FASTA file is in /data\n",
    "- This created a fasta of all the gffs, but theres alot!\n",
    "- Copy the fasta sequence printed out from the last command and use the BLAST website to find hits to species!"
   ]
  },
  {
   "cell_type": "code",
   "execution_count": null,
   "metadata": {},
   "outputs": [],
   "source": []
  }
 ],
 "metadata": {
  "kernelspec": {
   "display_name": "Python 3",
   "language": "python",
   "name": "python3"
  },
  "language_info": {
   "codemirror_mode": {
    "name": "ipython",
    "version": 3
   },
   "file_extension": ".py",
   "mimetype": "text/x-python",
   "name": "python",
   "nbconvert_exporter": "python",
   "pygments_lexer": "ipython3",
   "version": "3.5.2"
  }
 },
 "nbformat": 4,
 "nbformat_minor": 2
}
