{
 "cells": [
  {
   "cell_type": "markdown",
   "metadata": {},
   "source": [
    "## IMPORTANT -->Change this dataDirectory variable to the path to your *.fast5 files "
   ]
  },
  {
   "cell_type": "code",
   "execution_count": 1,
   "metadata": {},
   "outputs": [],
   "source": [
    "# dataDirectory='~/Users/...'\n",
    "\n",
    "dataDirectory='data/'"
   ]
  },
  {
   "cell_type": "markdown",
   "metadata": {},
   "source": [
    "### This will print the number of FAST5 files in the dataDirectory.\n",
    "\n",
    "- Poretools has a number of different command line options \n",
    "- Running poretools with no parameters gives us a brief list (and complies with Torsten's first rule)"
   ]
  },
  {
   "cell_type": "code",
   "execution_count": 2,
   "metadata": {
    "scrolled": true
   },
   "outputs": [
    {
     "name": "stdout",
     "output_type": "stream",
     "text": [
      "2\r\n"
     ]
    }
   ],
   "source": [
    "!find $dataDirectory -maxdepth 1 -name \"*.fast5\" | wc -l"
   ]
  },
  {
   "cell_type": "markdown",
   "metadata": {},
   "source": [
    "## What's the numbers?\n",
    "### Let's start with a simple one, the stats command, this will give us some basic statistics about our reads.\n",
    "\n",
    "The -q option stops poretools outputting any warning messages."
   ]
  },
  {
   "cell_type": "code",
   "execution_count": 3,
   "metadata": {
    "scrolled": true
   },
   "outputs": [
    {
     "name": "stdout",
     "output_type": "stream",
     "text": [
      "/usr/local/lib/python2.7/dist-packages/h5py/__init__.py:36: FutureWarning: Conversion of the second argument of issubdtype from `float` to `np.floating` is deprecated. In future, it will be treated as `np.float64 == np.dtype(float).type`.\n",
      "  from ._conv import register_converters as _register_converters\n",
      "total reads\t6\n",
      "total base pairs\t25217\n",
      "mean\t4202.83\n",
      "median\t4205\n",
      "min\t2940\n",
      "max\t5826\n",
      "N25\t5079\n",
      "N50\t5011\n",
      "N75\t3399\n"
     ]
    }
   ],
   "source": [
    "!poretools stats -q $dataDirectory"
   ]
  },
  {
   "cell_type": "markdown",
   "metadata": {},
   "source": [
    "### Directional reads in forward \n",
    "\n",
    "###### forward, reverse and two-directional reads are all counted separately."
   ]
  },
  {
   "cell_type": "code",
   "execution_count": 48,
   "metadata": {},
   "outputs": [
    {
     "name": "stdout",
     "output_type": "stream",
     "text": [
      "/usr/local/lib/python2.7/dist-packages/h5py/__init__.py:36: FutureWarning: Conversion of the second argument of issubdtype from `float` to `np.floating` is deprecated. In future, it will be treated as `np.float64 == np.dtype(float).type`.\n",
      "  from ._conv import register_converters as _register_converters\n",
      "total reads\t2\n",
      "total base pairs\t8019\n",
      "mean\t4009.50\n",
      "median\t4009\n",
      "min\t2940\n",
      "max\t5079\n",
      "N25\t5079\n",
      "N50\t5079\n",
      "N75\t2940\n"
     ]
    }
   ],
   "source": [
    "!poretools stats -q --type fwd $dataDirectory"
   ]
  },
  {
   "cell_type": "markdown",
   "metadata": {},
   "source": [
    "### Directional reads in reverse \n",
    "\n"
   ]
  },
  {
   "cell_type": "code",
   "execution_count": 49,
   "metadata": {},
   "outputs": [
    {
     "name": "stdout",
     "output_type": "stream",
     "text": [
      "/usr/local/lib/python2.7/dist-packages/h5py/__init__.py:36: FutureWarning: Conversion of the second argument of issubdtype from `float` to `np.floating` is deprecated. In future, it will be treated as `np.float64 == np.dtype(float).type`.\n",
      "  from ._conv import register_converters as _register_converters\n",
      "total reads\t2\n",
      "total base pairs\t7973\n",
      "mean\t3986.50\n",
      "median\t3986\n",
      "min\t2962\n",
      "max\t5011\n",
      "N25\t5011\n",
      "N50\t5011\n",
      "N75\t2962\n"
     ]
    }
   ],
   "source": [
    "!poretools stats -q --type rev $dataDirectory"
   ]
  },
  {
   "cell_type": "markdown",
   "metadata": {},
   "source": [
    "### Two-direction reads \n",
    "\n"
   ]
  },
  {
   "cell_type": "code",
   "execution_count": 50,
   "metadata": {},
   "outputs": [
    {
     "name": "stdout",
     "output_type": "stream",
     "text": [
      "/usr/local/lib/python2.7/dist-packages/h5py/__init__.py:36: FutureWarning: Conversion of the second argument of issubdtype from `float` to `np.floating` is deprecated. In future, it will be treated as `np.float64 == np.dtype(float).type`.\n",
      "  from ._conv import register_converters as _register_converters\n",
      "total reads\t2\n",
      "total base pairs\t9225\n",
      "mean\t4612.50\n",
      "median\t4612\n",
      "min\t3399\n",
      "max\t5826\n",
      "N25\t5826\n",
      "N50\t5826\n",
      "N75\t3399\n"
     ]
    }
   ],
   "source": [
    "!poretools stats -q --type 2D $dataDirectory"
   ]
  },
  {
   "cell_type": "markdown",
   "metadata": {},
   "source": [
    "# Covert to FASTA"
   ]
  },
  {
   "cell_type": "markdown",
   "metadata": {},
   "source": [
    "- stores all fasta files into a folder named fastaOutput"
   ]
  },
  {
   "cell_type": "code",
   "execution_count": 51,
   "metadata": {},
   "outputs": [],
   "source": [
    "#!poretools fasta $dataDirectory > fastaOutput/nameOfFile.fasta"
   ]
  },
  {
   "cell_type": "code",
   "execution_count": 52,
   "metadata": {},
   "outputs": [
    {
     "name": "stdout",
     "output_type": "stream",
     "text": [
      "mkdir: cannot create directory ‘fastaOutput’: File exists\n",
      "/usr/local/lib/python2.7/dist-packages/h5py/__init__.py:36: FutureWarning: Conversion of the second argument of issubdtype from `float` to `np.floating` is deprecated. In future, it will be treated as `np.float64 == np.dtype(float).type`.\n",
      "  from ._conv import register_converters as _register_converters\n"
     ]
    }
   ],
   "source": [
    "!mkdir fastaOutput\n",
    "!poretools fasta $dataDirectory > fastaOutput/outputPoretoolData.fasta"
   ]
  },
  {
   "cell_type": "markdown",
   "metadata": {},
   "source": [
    "## Congratulations! You have made a FASTA file out of your raw data!\n",
    "Next Step: Using the **mash** tool to clump together sequences that are close for more efficient genome assembly.\n"
   ]
  },
  {
   "cell_type": "markdown",
   "metadata": {},
   "source": [
    "# What is mash?\n",
    "- Fast metagenome distance estimation using MinHash"
   ]
  },
  {
   "cell_type": "markdown",
   "metadata": {},
   "source": [
    "# Using MetaGenomeMark to Describe Gene Information\n",
    "- meta genome mark will take the fasta file of the assembled genome\n",
    "- tell you what genes are in the genome\n",
    "\n",
    "\n",
    "genomeOutputAssembled.fa - input file from Canu"
   ]
  },
  {
   "cell_type": "code",
   "execution_count": 19,
   "metadata": {},
   "outputs": [
    {
     "name": "stdout",
     "output_type": "stream",
     "text": [
      "/work/data\n",
      "gmhmmp\tINSTALL  LICENSE  MetaGeneMark_v1.mod  README.MetaGeneMark\n"
     ]
    }
   ],
   "source": [
    "!pwd\n",
    "!ls /work/MetaGeneMark_linux_64/mgm"
   ]
  },
  {
   "cell_type": "markdown",
   "metadata": {},
   "source": [
    "## This will obtain a GFF file"
   ]
  },
  {
   "cell_type": "code",
   "execution_count": 123,
   "metadata": {
    "scrolled": true
   },
   "outputs": [],
   "source": [
    "!gmhmmp -a -r -f G -d -m ../MetaGeneMark_linux_64/mgm/MetaGeneMark_v1.mod -o data/sequence.gff assembly.fa\n"
   ]
  },
  {
   "cell_type": "markdown",
   "metadata": {},
   "source": [
    "### Using this gff file, we can learn what genes are in your sample!"
   ]
  },
  {
   "cell_type": "markdown",
   "metadata": {},
   "source": [
    "A GFF file has the columns: \n",
    "- seqname - name of the chromosome or scaffold\n",
    "- source - name of the program that generated this feature: GeneMark.hmm\n",
    "- feature - name of Gene, Variation, or Similarity\n",
    "- start - Start position of the feature, with sequence numbering starting at 1.\n",
    "- end - End position of the feature, with sequence numbering starting at 1.\n",
    "- score - A floating point value.\n",
    "- strand - defined as + (forward) or - (reverse).\n",
    "- frame - One of '0', '1' or '2'. '0' indicates that the first base of the feature is the first base of a codon, '1' that the second base is the first base of a codon, and so on..\n",
    "- attribute - A semicolon-separated list of tag-value pairs, providing additional information about each feature."
   ]
  },
  {
   "cell_type": "markdown",
   "metadata": {},
   "source": [
    "### Quick look at GFF file"
   ]
  },
  {
   "cell_type": "code",
   "execution_count": 120,
   "metadata": {},
   "outputs": [
    {
     "name": "stdout",
     "output_type": "stream",
     "text": [
      "##gff-version 2\r\n",
      "##source-version GeneMark.hmm_PROKARYOTIC 3.38\r\n",
      "##date: Wed Apr  4 20:04:08 2018\r\n",
      "# Sequence file name: data/asm.fa\r\n",
      "# Model file name: ../MetaGeneMark_linux_64/mgm/MetaGeneMark_v1.mod\r\n",
      "# RBS: true\r\n",
      "\r\n",
      "# Model information: Heuristic_model_for_genetic_code_11_and_GC_51\r\n",
      "\r\n",
      "utg000001l\tGeneMark.hmm\tCDS\t1\t72\t2.248856\t+\t0\tgene_id=1\r\n",
      "utg000001l\tGeneMark.hmm\tCDS\t1984\t2214\t0.337658\t+\t0\tgene_id=2\r\n",
      "utg000001l\tGeneMark.hmm\tCDS\t2289\t2411\t-2.242110\t+\t0\tgene_id=3\r\n",
      "utg000001l\tGeneMark.hmm\tCDS\t3078\t3404\t-8.565622\t+\t0\tgene_id=4\r\n",
      "utg000001l\tGeneMark.hmm\tCDS\t3420\t3665\t5.495138\t+\t0\tgene_id=5\r\n",
      "utg000001l\tGeneMark.hmm\tCDS\t11382\t11618\t0.812308\t-\t0\tgene_id=6\r\n",
      "utg000001l\tGeneMark.hmm\tCDS\t12156\t12431\t-0.839825\t-\t0\tgene_id=7\r\n",
      "utg000001l\tGeneMark.hmm\tCDS\t12557\t12790\t2.258979\t+\t0\tgene_id=8\r\n",
      "utg000001l\tGeneMark.hmm\tCDS\t13044\t13190\t6.278825\t+\t0\tgene_id=9\r\n",
      "utg000001l\tGeneMark.hmm\tCDS\t15513\t15620\t-1.745413\t-\t0\tgene_id=10\r\n",
      "utg000001l\tGeneMark.hmm\tCDS\t15624\t15899\t-8.697843\t-\t0\tgene_id=11\r\n"
     ]
    }
   ],
   "source": [
    "!head -20 data/sequence.gff"
   ]
  },
  {
   "cell_type": "markdown",
   "metadata": {},
   "source": [
    "### Goal: Getting FASTA files of all contigs listed "
   ]
  },
  {
   "cell_type": "code",
   "execution_count": 124,
   "metadata": {},
   "outputs": [],
   "source": [
    "!sed -i -e 1,9d data/sequence.gff"
   ]
  },
  {
   "cell_type": "code",
   "execution_count": 180,
   "metadata": {},
   "outputs": [
    {
     "name": "stdout",
     "output_type": "stream",
     "text": [
      "utg000001l\tGeneMark.hmm\tCDS\t1\t72\t2.248856\t+\t0\tgene_id=1\n",
      "utg000001l\tGeneMark.hmm\tCDS\t1984\t2214\t0.337658\t+\t0\tgene_id=2\n",
      "utg000001l\tGeneMark.hmm\tCDS\t2289\t2411\t-2.242110\t+\t0\tgene_id=3\n",
      "utg000001l\tGeneMark.hmm\tCDS\t3078\t3404\t-8.565622\t+\t0\tgene_id=4\n",
      "utg000001l\tGeneMark.hmm\tCDS\t3420\t3665\t5.495138\t+\t0\tgene_id=5\n",
      "utg000001l\tGeneMark.hmm\tCDS\t11382\t11618\t0.812308\t-\t0\tgene_id=6\n",
      "utg000001l\tGeneMark.hmm\tCDS\t12156\t12431\t-0.839825\t-\t0\tgene_id=7\n",
      "utg000001l\tGeneMark.hmm\tCDS\t12557\t12790\t2.258979\t+\t0\tgene_id=8\n",
      "utg000001l\tGeneMark.hmm\tCDS\t13044\t13190\t6.278825\t+\t0\tgene_id=9\n",
      "utg000001l\tGeneMark.hmm\tCDS\t15513\t15620\t-1.745413\t-\t0\tgene_id=10\n",
      "utg000001l\tGeneMark.hmm\tCDS\t15624\t15899\t-8.697843\t-\t0\tgene_id=11\n",
      "utg000001l\tGeneMark.hmm\tCDS\t16628\t16783\t-4.989063\t+\t0\tgene_id=12\n",
      "utg000001l\tGeneMark.hmm\tCDS\t17340\t17516\t-4.470129\t-\t0\tgene_id=13\n",
      "utg000001l\tGeneMark.hmm\tCDS\t20076\t20378\t-6.331264\t+\t0\tgene_id=14\n",
      "utg000001l\tGeneMark.hmm\tCDS\t21634\t21828\t4.955708\t+\t0\tgene_id=15\n",
      "utg000001l\tGeneMark.hmm\tCDS\t23066\t23227\t0.340974\t-\t0\tgene_id=16\n",
      "utg000001l\tGeneMark.hmm\tCDS\t24325\t24528\t-1.483387\t+\t0\tgene_id=17\n",
      "utg000001l\tGeneMark.hmm\tCDS\t24936\t25271\t-12.914814\t+\t0\tgene_id=18\n",
      "utg000001l\tGeneMark.hmm\tCDS\t25268\t25582\t-10.738983\t+\t0\tgene_id=19\n",
      "utg000001l\tGeneMark.hmm\tCDS\t25814\t25984\t8.748608\t+\t0\tgene_id=20\n",
      "60633 data/sequence.gff\n"
     ]
    }
   ],
   "source": [
    "!head -20 data/sequence.gff\n",
    "!wc -l data/sequence.gff"
   ]
  },
  {
   "cell_type": "code",
   "execution_count": 147,
   "metadata": {},
   "outputs": [
    {
     "name": "stdout",
     "output_type": "stream",
     "text": [
      "Collecting biopython\n",
      "  Downloading biopython-1.71-cp35-cp35m-manylinux1_x86_64.whl (2.0MB)\n",
      "\u001b[K    100% |████████████████████████████████| 2.0MB 872kB/s eta 0:00:01\n",
      "\u001b[?25hCollecting numpy (from biopython)\n",
      "  Downloading numpy-1.14.2-cp35-cp35m-manylinux1_x86_64.whl (12.1MB)\n",
      "\u001b[K    100% |████████████████████████████████| 12.1MB 117kB/s eta 0:00:01   44% |██████████████▏                 | 5.4MB 8.9MB/s eta 0:00:01\n",
      "\u001b[?25hInstalling collected packages: numpy, biopython\n",
      "Successfully installed biopython-1.71 numpy-1.14.2\n",
      "\u001b[33mYou are using pip version 8.1.1, however version 9.0.3 is available.\n",
      "You should consider upgrading via the 'pip install --upgrade pip' command.\u001b[0m\n"
     ]
    }
   ],
   "source": [
    "!pip3 install biopython"
   ]
  },
  {
   "cell_type": "code",
   "execution_count": null,
   "metadata": {},
   "outputs": [],
   "source": []
  },
  {
   "cell_type": "code",
   "execution_count": 199,
   "metadata": {
    "scrolled": false
   },
   "outputs": [
    {
     "name": "stdout",
     "output_type": "stream",
     "text": [
      "This is the header for your assembly fasta: utg000001l\n"
     ]
    }
   ],
   "source": [
    "import csv\n",
    "\n",
    "nameOfContig = list()\n",
    "startIndexList = list()\n",
    "stopIndexList = list()\n",
    "with open(\"data/sequence.gff\") as tsv:\n",
    "    for line in csv.reader(tsv, dialect=\"excel-tab\"): #You can also use delimiter=\"\\t\" rather than giving a dialect.\n",
    "        if len(line) > 1:\n",
    "            nameOfContig.append(\"\"+str(line[2:3][0])+str(line[3:4][0])+\"-\"+str(line[4:5][0]))\n",
    "            startIndexList.append(line[3:4])\n",
    "            stopIndexList.append(line[4:5])\n",
    "startAndStopList = list(zip(nameOfContig,startIndexList,stopIndexList))\n",
    "from Bio import SeqIO\n",
    "sequences = list()\n",
    "for record in SeqIO.parse(\"data/asm.fa\", \"fasta\"):\n",
    "    print(\"This is the header for your assembly fasta: \"+record.id)\n",
    "    for name,start,stop in startAndStopList :\n",
    "        if start != [] and stop != [] :\n",
    "            sequences.append(record.seq[int(start[0]):int(stop[0])])\n",
    "fastaList = list(zip(nameOfContig, sequences))\n",
    "with open(\"data/annotatedGene.fa\", \"w\") as output_handle:\n",
    "    for name, seq in fastaList:\n",
    "        fasta_format_string = \">\"+name+\"\\n%s\\n\" % seq\n",
    "        output_handle.write(fasta_format_string)"
   ]
  },
  {
   "cell_type": "markdown",
   "metadata": {},
   "source": [
    "### Annotated FASTA file is in /data\n",
    "This created a fasta of all the gffs, but theres alot!\n",
    "Lets get the biggest "
   ]
  },
  {
   "cell_type": "code",
   "execution_count": null,
   "metadata": {},
   "outputs": [],
   "source": []
  },
  {
   "cell_type": "code",
   "execution_count": 22,
   "metadata": {
    "scrolled": true
   },
   "outputs": [
    {
     "name": "stdout",
     "output_type": "stream",
     "text": [
      ">utg000001l\r\n",
      "TTGCTCGGTTTTATTACTTTAGGCATTTATACTCCGCTGGAAGCGTGTGACCTGCTCAAAATAATTGCATGAGTTGCCCA\r\n",
      "TCGATTGTAAGCTCTATTGAGCACTGCTCATTAATATACTTCTGGGTTCCTCAGTTCCAGTTGTTTTGCATAGTGATCAG\r\n",
      "CCTCTCTGAGGGTGAAATAATCCCGTTCAGCGGTGTCTGCCAGTCGGGGGGAGGCTGCATTATCACGCCGGAGGCTGCGG\r\n",
      "CTTCACGCATGACTGACAGACTGCTTTGATGTGCAACCGACGACCAAGAGCGGCAGCAACATCATCACGCAGAGCATCAT\r\n",
      "TTTCAGCTTCGCATCAGCTAACTCCTTCGTGTATTTTGCAGCGACGCAGCAACATCACGCTGACGCATCTGCATGTCAGT\r\n",
      "AATTGCCGCGTTCGCTAGCTTTTGCCAGTTCTCTCTGGCATTTTGTCGCCTGGACTTTGTAGGCGATTGCGTTATCACAC\r\n",
      "GGTAATGATTGACCGCCCATGACAGGCTGACGATGATGCAGATAATCAGAGCGGATATAATCGCGGTTACTCTGCTCACT\r\n",
      "GTTGCCCCCACAAACAGACTTCACGCTCAATCTCACGACGAGTCATCAGGCCTTTCCCATTATTGCTTACCGCCAGCGTA\r\n",
      "TGTCCAGCGACGCAGCTGATGGATGCGCCTTTGATATCGCCCTGGTTTATTTTGCGAAGAAGCGTCGATGTTCTAAATTG\r\n"
     ]
    }
   ],
   "source": [
    "!head data/asm.fa"
   ]
  },
  {
   "cell_type": "markdown",
   "metadata": {},
   "source": [
    "### What can we do with this "
   ]
  }
 ],
 "metadata": {
  "kernelspec": {
   "display_name": "Python 3",
   "language": "python",
   "name": "python3"
  },
  "language_info": {
   "codemirror_mode": {
    "name": "ipython",
    "version": 3
   },
   "file_extension": ".py",
   "mimetype": "text/x-python",
   "name": "python",
   "nbconvert_exporter": "python",
   "pygments_lexer": "ipython3",
   "version": "3.5.2"
  }
 },
 "nbformat": 4,
 "nbformat_minor": 2
}
