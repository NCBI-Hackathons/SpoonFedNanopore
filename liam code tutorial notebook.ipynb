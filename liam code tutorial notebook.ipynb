{
 "cells": [
  {
   "cell_type": "markdown",
   "metadata": {},
   "source": [
    "## IMPORTANT -->Change this dataDirectory variable to the path to your *.fast5 files "
   ]
  },
  {
   "cell_type": "code",
   "execution_count": null,
   "metadata": {},
   "outputs": [],
   "source": [
    "# dataDirectory='~/Users/...'\n",
    "\n",
    "dataDirectory='data/'"
   ]
  },
  {
   "cell_type": "markdown",
   "metadata": {},
   "source": [
    "### This will print the number of FAST5 files in the dataDirectory.\n",
    "\n",
    "- Poretools has a number of different command line options \n",
    "- Running poretools with no parameters gives us a brief list (and complies with Torsten's first rule)"
   ]
  },
  {
   "cell_type": "code",
   "execution_count": null,
   "metadata": {
    "scrolled": true
   },
   "outputs": [],
   "source": [
    "!find $dataDirectory -maxdepth 1 -name \"*.fast5\" | wc -l"
   ]
  },
  {
   "cell_type": "markdown",
   "metadata": {},
   "source": [
    "## What's the numbers?\n",
    "### Let's start with a simple one, the stats command, this will give us some basic statistics about our reads.\n",
    "\n",
    "The -q option stops poretools outputting any warning messages."
   ]
  },
  {
   "cell_type": "code",
   "execution_count": null,
   "metadata": {
    "scrolled": true
   },
   "outputs": [],
   "source": [
    "!poretools stats -q $dataDirectory"
   ]
  },
  {
   "cell_type": "markdown",
   "metadata": {},
   "source": [
    "### Directional reads in forward \n",
    "\n",
    "###### forward, reverse and two-directional reads are all counted separately."
   ]
  },
  {
   "cell_type": "code",
   "execution_count": null,
   "metadata": {},
   "outputs": [],
   "source": [
    "!poretools stats -q --type fwd $dataDirectory"
   ]
  },
  {
   "cell_type": "markdown",
   "metadata": {},
   "source": [
    "### Directional reads in reverse \n",
    "\n"
   ]
  },
  {
   "cell_type": "code",
   "execution_count": null,
   "metadata": {},
   "outputs": [],
   "source": [
    "!poretools stats -q --type rev $dataDirectory"
   ]
  },
  {
   "cell_type": "markdown",
   "metadata": {},
   "source": [
    "### Two-direction reads \n",
    "\n"
   ]
  },
  {
   "cell_type": "code",
   "execution_count": null,
   "metadata": {},
   "outputs": [],
   "source": [
    "!poretools stats -q --type 2D $dataDirectory"
   ]
  },
  {
   "cell_type": "markdown",
   "metadata": {},
   "source": [
    "# Covert to FASTA"
   ]
  },
  {
   "cell_type": "markdown",
   "metadata": {},
   "source": [
    "- stores all fasta files into a folder named fastaOutput"
   ]
  },
  {
   "cell_type": "code",
   "execution_count": null,
   "metadata": {},
   "outputs": [],
   "source": [
    "#!poretools fasta $dataDirectory > fastaOutput/nameOfFile.fasta"
   ]
  },
  {
   "cell_type": "code",
   "execution_count": null,
   "metadata": {},
   "outputs": [],
   "source": [
    "!mkdir fastaOutput\n",
    "!poretools fasta $dataDirectory > fastaOutput/outputPoretoolData.fasta"
   ]
  },
  {
   "cell_type": "markdown",
   "metadata": {},
   "source": [
    "## Congratulations! You have made a FASTA file out of your raw data!\n",
    "Next Step: Using the **mash** tool to clump together sequences that are close for more efficient genome assembly.\n"
   ]
  },
  {
   "cell_type": "markdown",
   "metadata": {},
   "source": [
    "# What is mash?\n",
    "- Fast metagenome distance estimation using MinHash"
   ]
  },
  {
   "cell_type": "markdown",
   "metadata": {},
   "source": [
    "# Using MetaGenomeMark to Describe Gene Information\n",
    "- meta genome mark will take the fasta file of the assembled genome\n",
    "- tell you what genes are in the genome\n",
    "\n",
    "\n",
    "genomeOutputAssembled.fa - input file from Canu"
   ]
  },
  {
   "cell_type": "code",
   "execution_count": null,
   "metadata": {},
   "outputs": [],
   "source": [
    "!pwd\n",
    "!ls /work/MetaGeneMark_linux_64/mgm"
   ]
  },
  {
   "cell_type": "markdown",
   "metadata": {},
   "source": [
    "## This will obtain a GFF file"
   ]
  },
  {
   "cell_type": "code",
   "execution_count": null,
   "metadata": {
    "scrolled": true
   },
   "outputs": [],
   "source": [
    "!gmhmmp -a -r -f G -d -m ../MetaGeneMark_linux_64/mgm/MetaGeneMark_v1.mod -o data/sequence.gff assembly.fa\n"
   ]
  },
  {
   "cell_type": "markdown",
   "metadata": {},
   "source": [
    "### Using this gff file, we can learn what genes are in your sample!"
   ]
  },
  {
   "cell_type": "markdown",
   "metadata": {},
   "source": [
    "A GFF file has the columns: \n",
    "- seqname - name of the chromosome or scaffold\n",
    "- source - name of the program that generated this feature: GeneMark.hmm\n",
    "- feature - name of Gene, Variation, or Similarity\n",
    "- start - Start position of the feature, with sequence numbering starting at 1.\n",
    "- end - End position of the feature, with sequence numbering starting at 1.\n",
    "- score - A floating point value.\n",
    "- strand - defined as + (forward) or - (reverse).\n",
    "- frame - One of '0', '1' or '2'. '0' indicates that the first base of the feature is the first base of a codon, '1' that the second base is the first base of a codon, and so on..\n",
    "- attribute - A semicolon-separated list of tag-value pairs, providing additional information about each feature."
   ]
  },
  {
   "cell_type": "markdown",
   "metadata": {},
   "source": [
    "### Quick look at GFF file"
   ]
  },
  {
   "cell_type": "code",
   "execution_count": null,
   "metadata": {},
   "outputs": [],
   "source": [
    "!head -20 data/sequence.gff"
   ]
  },
  {
   "cell_type": "markdown",
   "metadata": {},
   "source": [
    "### Goal: Getting FASTA files of all contigs listed \n",
    "This is your assembly file"
   ]
  },
  {
   "cell_type": "code",
   "execution_count": null,
   "metadata": {
    "scrolled": true
   },
   "outputs": [],
   "source": [
    "!head data/asm.fa"
   ]
  },
  {
   "cell_type": "markdown",
   "metadata": {},
   "source": [
    "### The GFF file has unecessary headers that we don't need.\n",
    "Run this sed command in unix to remove them"
   ]
  },
  {
   "cell_type": "code",
   "execution_count": null,
   "metadata": {},
   "outputs": [],
   "source": [
    "!sed -i -e 1,9d data/sequence.gff"
   ]
  },
  {
   "cell_type": "markdown",
   "metadata": {},
   "source": [
    "This is our current GFF file, followed how many contigs found"
   ]
  },
  {
   "cell_type": "code",
   "execution_count": null,
   "metadata": {},
   "outputs": [],
   "source": [
    "!head -20 data/sequence.gff\n",
    "!wc -l data/sequence.gff"
   ]
  },
  {
   "cell_type": "markdown",
   "metadata": {},
   "source": [
    "### Run this to slice the FASTA sequences from the assembly from the GFF start and stop indecies"
   ]
  },
  {
   "cell_type": "code",
   "execution_count": null,
   "metadata": {
    "scrolled": true
   },
   "outputs": [],
   "source": [
    "# This python script will get the start and stop indexes from the GFF \n",
    "# and get FASTA sequences from the assembly \n",
    "\n",
    "import csv\n",
    "\n",
    "nameOfContig = list()\n",
    "startIndexList = list()\n",
    "stopIndexList = list()\n",
    "# get start and stop indexes in the GFF file\n",
    "with open(\"data/sequence.gff\") as tsv:\n",
    "    for line in csv.reader(tsv, dialect=\"excel-tab\"): #You can also use delimiter=\"\\t\" rather than giving a dialect.\n",
    "        if len(line) > 1:\n",
    "            nameOfContig.append(\"\"+str(line[2:3][0])+str(line[3:4][0])+\"-\"+str(line[4:5][0]))\n",
    "            startIndexList.append(line[3:4])\n",
    "            stopIndexList.append(line[4:5])\n",
    "startAndStopList = list(zip(nameOfContig,startIndexList,stopIndexList))\n",
    "\n",
    "# Use BioPython to assemble output FASTA file\n",
    "from Bio import SeqIO\n",
    "sequences = list()\n",
    "for record in SeqIO.parse(\"data/asm.fa\", \"fasta\"):\n",
    "    print(\"This is the header for your assembly fasta: \"+record.id)\n",
    "    for name,start,stop in startAndStopList :\n",
    "        if start != [] and stop != [] :\n",
    "            sequences.append(record.seq[int(start[0]):int(stop[0])])\n",
    "fastaList = list(zip(nameOfContig, sequences))\n",
    "with open(\"data/annotatedGene.fa\", \"w\") as output_handle:\n",
    "    for name, seq in fastaList:\n",
    "        fasta_format_string = \">\"+name+\"\\n%s\\n\" % seq\n",
    "        output_handle.write(fasta_format_string)\n",
    "\n",
    "# Get the largest FASTA sequence\n",
    "maxFasta = max(fastaList, key=lambda x: len(x[1]))\n",
    "fasta_format_string = \">\"+str(maxFasta[0])+\"\\n%s\\n\" % str(maxFasta[1])\n",
    "print(fasta_format_string)\n",
    "\n",
    "# Blastn the largest sequence\n",
    "from Bio.Blast import NCBIWWW\n",
    "result_handle = NCBIWWW.qblast(\"blastx\", \"nr\", str(maxFasta[1]))\n",
    "\n"
   ]
  },
  {
   "cell_type": "markdown",
   "metadata": {},
   "source": [
    "### Annotated FASTA file is in /data\n",
    "- This created a fasta of all the gffs, but theres alot!\n",
    "- Copy the fasta sequence printed out from the last command and use the BLAST website to find hits to species!"
   ]
  }
 ],
 "metadata": {
  "kernelspec": {
   "display_name": "Python 3",
   "language": "python",
   "name": "python3"
  },
  "language_info": {
   "codemirror_mode": {
    "name": "ipython",
    "version": 3
   },
   "file_extension": ".py",
   "mimetype": "text/x-python",
   "name": "python",
   "nbconvert_exporter": "python",
   "pygments_lexer": "ipython3",
   "version": "3.5.2"
  }
 },
 "nbformat": 4,
 "nbformat_minor": 2
}
